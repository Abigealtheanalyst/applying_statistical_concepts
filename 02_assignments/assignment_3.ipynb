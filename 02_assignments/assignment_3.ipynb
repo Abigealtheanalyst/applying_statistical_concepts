{
 "cells": [
  {
   "cell_type": "markdown",
   "id": "7b0bcac6-5086-4f4e-928a-570a9ff7ae58",
   "metadata": {},
   "source": [
    "# Assignment 3"
   ]
  },
  {
   "cell_type": "markdown",
   "id": "5fce0350-2a17-4e93-8d4c-0b8748fdfc32",
   "metadata": {},
   "source": [
    "As before, if a question can be answered with 'yes/no', or a numeric value, you may simply state as much. If you incorporate code from the internet (which is not required and generally not advisable), please cite the source within your code (providing a URL is sufficient).\n",
    "\n",
    "We will go through comparable code and concepts in the live learning session. If you run into trouble, start by using the help `help()` function in Python, to get information about the datasets and function in question. The internet is also a great resource when coding (though note that no outside searches are required by the assignment!). If you do incorporate code from the internet, please cite the source within your code (providing a URL is sufficient).\n",
    "\n",
    "Please bring questions that you cannot work out on your own to office hours, work periods or share with your peers on Slack. We will work with you through the issue."
   ]
  },
  {
   "cell_type": "code",
   "execution_count": null,
   "id": "b92f7c91",
   "metadata": {},
   "outputs": [],
   "source": [
    "import numpy as np\n",
    "import pandas as pd\n",
    "import matplotlib.pyplot as plt\n",
    "import statsmodels.api as sm"
   ]
  },
  {
   "cell_type": "markdown",
   "id": "d7fff1dd-e4ce-4a60-96a0-d08136e9bf5e",
   "metadata": {},
   "source": [
    "### Question 1: Resampling via Bootstrapping\n",
    "\n",
    "Now, we'll use the `iris` dataset, which we will add to Python using the `statsmodels` library. As always, start by reviewing a description of the dataset, by printing the dataset."
   ]
  },
  {
   "cell_type": "code",
   "execution_count": null,
   "id": "47f4dcf5-0d4c-41ea-892d-d9f2c1aa1859",
   "metadata": {},
   "outputs": [],
   "source": [
    "# Import\n",
    "iris = sm.datasets.get_rdataset('iris', 'datasets')\n",
    "df = pd.DataFrame(iris.data)"
   ]
  },
  {
   "cell_type": "markdown",
   "id": "7717a32c",
   "metadata": {},
   "source": [
    "_(i)_ Create an `alpha_func(D, idx)` function which takes the `Sepal`'s `width` and `length` to calculate for alpha"
   ]
  },
  {
   "cell_type": "code",
   "execution_count": null,
   "id": "f3da5483",
   "metadata": {},
   "outputs": [],
   "source": [
    "# Your code here\n",
    "\n",
    "# Define the alpha_func to calculate the ratio of Sepal width to Sepal length\n",
    "def alpha_func(D, idx):\n",
    "    \"\"\"\n",
    "    Calculate alpha as the ratio of Sepal width to Sepal length.\n",
    "\n",
    "    Parameters:\n",
    "    D (DataFrame): The DataFrame containing the iris dataset.\n",
    "    idx (array-like): Indexes to be used for resampling.\n",
    "    \"\"\"\n",
    "    \n",
    "    sepal_length = D.loc[idx, 'Sepal.Length'].values\n",
    "    sepal_width = D.loc[idx, 'Sepal.Width'].values\n",
    "    \n",
    "    alpha = sepal_width / sepal_length\n",
    "    return alpha.mean()\n",
    "\n",
    "# Testing the function with the whole dataset\n",
    "print(alpha_func(df, df.index))"
   ]
  },
  {
   "cell_type": "markdown",
   "id": "ff94d66b",
   "metadata": {},
   "source": [
    "Test the code below"
   ]
  },
  {
   "cell_type": "code",
   "execution_count": null,
   "id": "eda715cd",
   "metadata": {},
   "outputs": [],
   "source": [
    "alpha_func(df, range(100))"
   ]
  },
  {
   "cell_type": "markdown",
   "id": "f338b14e",
   "metadata": {},
   "source": [
    "_(ii)_ Construct a new bootstrap data set and recompute alpha"
   ]
  },
  {
   "cell_type": "code",
   "execution_count": null,
   "id": "34ee835f",
   "metadata": {},
   "outputs": [],
   "source": [
    "rng = np.random.default_rng(0)\n",
    "alpha_func(df,\n",
    "           rng.choice(100,\n",
    "                      100,\n",
    "                      replace=True))"
   ]
  },
  {
   "cell_type": "markdown",
   "id": "056080ff-7aec-41aa-bb61-763b390e4cf2",
   "metadata": {},
   "source": [
    "Imagine we are analysts working for a shipping company. The company wants to know the average length of iris' petals, to inform space allotment on an upcoming shipment. The relevant variable in the dataset is `Sepal.Length`. \n",
    "\n",
    "_(iii)_ Why is it (perhaps) not sufficient to simply calculate the mean of `Sepal.Length`? What more information will preforming a bootstrap provide to us?  \n",
    "\n",
    "Calculating the mean of Sepal.Length provides a point estimate of the average petal length. However, this point estimate does not give us any information about the variability or uncertainty around this estimate. Reasons why simply calculating the menan may not be sufficient may include Variability, robustness, confidence intervals.\n",
    "\n",
    "_(iv)_ We can perform bootstrapping in Python by defining a simple function using `boot_SE()` for computing the bootstrap standard error. Remember, because bootstrapping involves randomness, we must first set a seed for reproducibility!"
   ]
  },
  {
   "cell_type": "code",
   "execution_count": null,
   "id": "77540f76-7747-4dba-8e77-e1ded54af536",
   "metadata": {},
   "outputs": [],
   "source": [
    "# Add your code here to set the seed\n",
    "\n",
    "# Function to calculate the mean of Sepal.Length\n",
    "def mean_sepal_length(D, idx):\n",
    "    return D.loc[idx, 'Sepal.Length'].mean()\n",
    "\n",
    "# Function to perform bootstrapping and compute the standard error\n",
    "def boot_SE(D, num_bootstrap=1000, seed=0):\n",
    "    rng = np.random.default_rng(seed)\n",
    "    bootstrap_means = []\n",
    "    \n",
    "    for _ in range(num_bootstrap):\n",
    "        sample_idx = rng.choice(D.index, len(D), replace=True)\n",
    "        bootstrap_means.append(mean_sepal_length(D, sample_idx))\n",
    "    \n",
    "    bootstrap_means = np.array(bootstrap_means)\n",
    "    standard_error = bootstrap_means.std()\n",
    "    return standard_error, bootstrap_means\n",
    "\n",
    "# Perform bootstrapping\n",
    "standard_error, bootstrap_means = boot_SE(df)\n",
    "\n",
    "print(f\"Bootstrap standard error: {standard_error}\")\n",
    "\n",
    "\n"
   ]
  },
  {
   "cell_type": "markdown",
   "id": "8a543472",
   "metadata": {},
   "source": [
    "_(v)_ Evaluate the accuracy of our alpha estimate with B = 1000"
   ]
  },
  {
   "cell_type": "code",
   "execution_count": null,
   "id": "9ed41c4e",
   "metadata": {},
   "outputs": [],
   "source": [
    "# Your code here\n",
    "\n",
    "# Defining the alpha function\n",
    "def alpha_func(data, idx):\n",
    "    X = data.loc[idx, 'Sepal.Length']\n",
    "    Y = data.loc[idx, 'Sepal.Width']\n",
    "    return (np.var(Y) - np.var(X)) / (np.var(Y) + np.var(X))\n",
    "\n",
    "# Defining the bootstrapping function for alpha\n",
    "def bootstrap_alpha(data, func, num_bootstrap=1000, seed=0):\n",
    "    rng = np.random.default_rng(seed)\n",
    "    bootstrap_alphas = []\n",
    "    \n",
    "    for _ in range(num_bootstrap):\n",
    "        sample_idx = rng.choice(data.index, len(data), replace=True)\n",
    "        bootstrap_alphas.append(func(data, sample_idx))\n",
    "    \n",
    "    bootstrap_alphas = np.array(bootstrap_alphas)\n",
    "    standard_error = bootstrap_alphas.std()\n",
    "    ci_lower = np.percentile(bootstrap_alphas, 2.5)\n",
    "    ci_upper = np.percentile(bootstrap_alphas, 97.5)\n",
    "    \n",
    "    return bootstrap_alphas, standard_error, ci_lower, ci_upper\n",
    "\n",
    "# Performing bootstrapping with B = 1000\n",
    "B = 1000\n",
    "bootstrap_alphas, alpha_se, ci_lower, ci_upper = bootstrap_alpha(df, alpha_func, num_bootstrap=B)\n",
    "\n",
    "print(f\"Bootstrap alpha standard error: {alpha_se}\")\n",
    "print(f\"95% confidence interval for alpha: [{ci_lower}, {ci_upper}]\")\n"
   ]
  },
  {
   "cell_type": "markdown",
   "id": "2e5e0c7f",
   "metadata": {},
   "source": [
    "_(vi)_ What is the original mean value of `Sepal.Length`?"
   ]
  },
  {
   "cell_type": "code",
   "execution_count": null,
   "id": "7c9d5004",
   "metadata": {},
   "outputs": [],
   "source": [
    "# Your code here"
   ]
  },
  {
   "cell_type": "markdown",
   "id": "785fe758-f395-40b6-a9a3-28ec2efeba29",
   "metadata": {},
   "source": [
    "Next, let's create a new bootstrapping to bootstrap samples (`boot_se_samples`) of `Sepal.Length`, in order to compute its bootstrapped mean and standard deviation.\n",
    "\n",
    "_(vii)_. Write code to review the bootstrapped mean value, and the standard deviation of the bootstrapped samples. Compare the mean against its original value. Then, review the bootstrapped range, by using `t_range = np.ptp(boot_se_samples)`."
   ]
  },
  {
   "cell_type": "code",
   "execution_count": null,
   "id": "7686243c",
   "metadata": {},
   "outputs": [],
   "source": [
    "# Add your code here\n",
    "\n",
    "# Calculate the mean value of Sepal.Length\n",
    "original_mean_sepal_length = df['Sepal.Length'].mean()\n",
    "print(f\"The original mean value of Sepal.Length is: {original_mean_sepal_length}\")\n"
   ]
  },
  {
   "cell_type": "code",
   "execution_count": null,
   "id": "eec7a998",
   "metadata": {},
   "outputs": [],
   "source": [
    "#bootstrapped mean value\n",
    "\n",
    "# Setting the random seed for reproducibility\n",
    "np.random.seed(0)\n",
    "\n",
    "# Function to perform bootstrapping\n",
    "def bootstrap_sepal_length(data, n_bootstrap_samples=1000):\n",
    "    boot_se_samples = []\n",
    "    n = len(data)\n",
    "    for _ in range(n_bootstrap_samples):\n",
    "        sample = np.random.choice(data, size=n, replace=True)\n",
    "        boot_se_samples.append(sample.mean())\n",
    "    return np.array(boot_se_samples)\n",
    "\n",
    "#  bootstrapping\n",
    "sepal_length = df['Sepal.Length'].values\n",
    "boot_se_samples = bootstrap_sepal_length(sepal_length)\n",
    "\n",
    "# Calculating bootstrapped mean and standard deviation\n",
    "boot_mean = boot_se_samples.mean()\n",
    "boot_std = boot_se_samples.std()\n",
    "\n",
    "# Original mean value\n",
    "original_mean_sepal_length = sepal_length.mean()\n",
    "\n",
    "# Calculating the range of the bootstrapped samples\n",
    "t_range = np.ptp(boot_se_samples)\n",
    "\n",
    "# Print the results\n",
    "print(f\"Original mean value of Sepal.Length: {original_mean_sepal_length}\")\n",
    "print(f\"Bootstrapped mean value of Sepal.Length: {boot_mean}\")\n",
    "print(f\"Bootstrapped standard deviation of Sepal.Length: {boot_std}\")\n",
    "print(f\"Range of the bootstrapped samples (t_range): {t_range}\")"
   ]
  },
  {
   "cell_type": "markdown",
   "id": "66c6c663-f3bb-4a15-8896-6dccfb7259fd",
   "metadata": {},
   "source": [
    "_(viii)_ Next, let's compute 95% confidence intervals, for the mean value of iris sepal length. (Hint: use the `np.percentile` function)"
   ]
  },
  {
   "cell_type": "code",
   "execution_count": null,
   "id": "74de4a76-e500-4c93-82a9-e7365cc86c91",
   "metadata": {},
   "outputs": [],
   "source": [
    "# Add your code here\n",
    "\n",
    "# Calculating the 95% confidence intervals\n",
    "conf_interval_95 = np.percentile(boot_se_samples, [2.5, 97.5])\n",
    "\n",
    "# Print the results\n",
    "print(f\"Original mean value of Sepal.Length: {original_mean_sepal_length}\")\n",
    "print(f\"Bootstrapped mean value of Sepal.Length: {boot_mean}\")\n",
    "print(f\"Bootstrapped standard deviation of Sepal.Length: {boot_std}\")\n",
    "print(f\"Range of the bootstrapped samples (t_range): {t_range}\")\n",
    "print(f\"95% confidence intervals for Sepal.Length: {conf_interval_95}\")"
   ]
  },
  {
   "cell_type": "markdown",
   "id": "488e54f7-ebe4-4740-835c-9832320005d0",
   "metadata": {},
   "source": [
    "_(ix)_. Use the plot function to create an histogram of the bootstrapped samples. What does this histogram show ?"
   ]
  },
  {
   "cell_type": "code",
   "execution_count": null,
   "id": "4fca4e3f",
   "metadata": {},
   "outputs": [],
   "source": [
    "#Complete this\n",
    "\n",
    "# Create a figure and axis\n",
    "fig, ax = plt.subplots()\n",
    "\n",
    "# Create the histogram\n",
    "#Add your code here\n",
    "ax.hist(boot_se_samples, bins=30, edgecolor='k', alpha=0.7)\n",
    "\n",
    "# Add a title\n",
    "#Add your code here\n",
    "ax.set_title('Histogram of Bootstrapped Sample Means of Sepal.Length')\n",
    "\n",
    "# Add a label to the x-axis\n",
    "#Add your code here\n",
    "ax.set_xlabel('Bootstrapped Sample Means of Sepal.Length')\n",
    "\n",
    "# Add a label to the y-axis\n",
    "#Add your code here\n",
    "ax.set_ylabel('Frequency')\n",
    "\n",
    "# Show the plot\n",
    "plt.show()\n"
   ]
  },
  {
   "cell_type": "markdown",
   "id": "bfa9a095-9c7a-4ab5-aa99-b11bf419fae0",
   "metadata": {},
   "source": [
    "_(x)_ Given your bootstrapped analysis, what do you recommend to shipping company? "
   ]
  },
  {
   "cell_type": "markdown",
   "id": "5e83202e-4aab-44bb-8586-5d0e82e9e201",
   "metadata": {},
   "source": [
    "#### Write your answer here\n",
    "1. Considering the standard deviation and the 95% confidence interval, it is important to account for variability. The company should prepare for some fluctuation around the mean size, ensuring there is a buffer space to accommodate this variability.\n",
    "\n",
    "2. The confidence interval indicates the range within which the true mean Sepal.Length is likely to fall. This can provide the company with a more robust estimate than just using the sample mean alone. For example, if the 95% confidence interval is [5.7, 6.0], the company can use this range to ensure they are not underestimating or overestimating the space required.\n",
    "\n",
    "3. The company should inspect the dataset for any significant outliers and consider them in their planning to avoid any surprises."
   ]
  },
  {
   "cell_type": "markdown",
   "id": "466943e8",
   "metadata": {},
   "source": [
    "# Criteria\n",
    "\n",
    "|Criteria            |Complete           |Incomplete          |\n",
    "|--------------------|---------------|--------------|\n",
    "|Bootstrapping|All steps are done correctly and the answers are correct.|At least one step is done incorrectly leading to a wrong answer.|"
   ]
  },
  {
   "cell_type": "markdown",
   "id": "68b8a226",
   "metadata": {},
   "source": [
    "## Submission Information\n",
    "\n",
    "🚨 **Please review our [Assignment Submission Guide](https://github.com/UofT-DSI/onboarding/blob/main/onboarding_documents/submissions.md)** 🚨 for detailed instructions on how to format, branch, and submit your work. Following these guidelines is crucial for your submissions to be evaluated correctly.\n",
    "\n",
    "### Note:\n",
    "\n",
    "If you like, you may collaborate with others in the cohort. If you choose to do so, please indicate with whom you have worked with in your pull request by tagging their GitHub username. Separate submissions are required.\n",
    "\n",
    "\n",
    "### Submission Parameters:\n",
    "* Submission Due Date: `HH:MM AM/PM - DD/MM/YYYY`\n",
    "* The branch name for your repo should be: `assignment-3`\n",
    "* What to submit for this assignment:\n",
    "    * This Jupyter Notebook (assignment_3.ipynb) should be populated and should be the only change in your pull request.\n",
    "* What the pull request link should look like for this assignment: `https://github.com/<your_github_username>/applying_statistical_concepts/pull/<pr_id>`\n",
    "    * Open a private window in your browser. Copy and paste the link to your pull request into the address bar. Make sure you can see your pull request properly. This helps the technical facilitator and learning support staff review your submission easily.\n",
    "\n",
    "Checklist:\n",
    "- [ ] Created a branch with the correct naming convention.\n",
    "- [ ] Ensured that the repository is public.\n",
    "- [ ] Reviewed the PR description guidelines and adhered to them.\n",
    "- [ ] Verify that the link is accessible in a private browser window.\n",
    "\n",
    "If you encounter any difficulties or have questions, please don't hesitate to reach out to our team via our Slack at `#cohort-3-help`. Our Technical Facilitators and Learning Support staff are here to help you navigate any challenges.\n"
   ]
  }
 ],
 "metadata": {
  "kernelspec": {
   "display_name": "Python 3.10.4",
   "language": "python",
   "name": "python3"
  },
  "language_info": {
   "codemirror_mode": {
    "name": "ipython",
    "version": 3
   },
   "file_extension": ".py",
   "mimetype": "text/x-python",
   "name": "python",
   "nbconvert_exporter": "python",
   "pygments_lexer": "ipython3",
   "version": "3.9.19"
  },
  "vscode": {
   "interpreter": {
    "hash": "497a84dc8fec8cf8d24e7e87b6d954c9a18a327edc66feb9b9ea7e9e72cc5c7e"
   }
  }
 },
 "nbformat": 4,
 "nbformat_minor": 5
}
